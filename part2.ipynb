{
 "cells": [
  {
   "cell_type": "markdown",
   "id": "328aade3",
   "metadata": {},
   "source": [
    "## Import into colmap and run reconstruction"
   ]
  },
  {
   "cell_type": "code",
   "execution_count": 1,
   "id": "44879366",
   "metadata": {},
   "outputs": [
    {
     "name": "stderr",
     "output_type": "stream",
     "text": [
      "100%|██████████| 99/99 [00:00<00:00, 212.02it/s]\n",
      " 56%|█████▌    | 2542/4560 [00:01<00:00, 2178.62it/s]\n"
     ]
    }
   ],
   "source": [
    "feature_dir = 'featureout_loftr'\n",
    "dirname = 'dirname'\n",
    "\n",
    "from h5_to_db import add_keypoints, add_matches, COLMAPDatabase\n",
    "import pycolmap\n",
    "import os\n",
    "\n",
    "def import_into_colmap(img_dir,\n",
    "                       feature_dir ='.featureout',\n",
    "                       database_path = 'colmap.db',\n",
    "                       img_ext='.jpg'):\n",
    "    db = COLMAPDatabase.connect(database_path)\n",
    "    db.create_tables()\n",
    "    single_camera = False\n",
    "    fname_to_id = add_keypoints(db, feature_dir, img_dir, img_ext, 'simple-radial', single_camera)\n",
    "    add_matches(\n",
    "        db,\n",
    "        feature_dir,\n",
    "        fname_to_id,\n",
    "    )\n",
    "\n",
    "    db.commit()\n",
    "    return\n",
    "\n",
    "database_path = 'colmap_loftr.db'\n",
    "!rm {database_path}\n",
    "import_into_colmap(dirname,feature_dir=feature_dir, database_path=database_path)"
   ]
  },
  {
   "cell_type": "code",
   "execution_count": 2,
   "id": "21a64935",
   "metadata": {},
   "outputs": [],
   "source": [
    "output_path = 'colmap_rec_loftr'"
   ]
  },
  {
   "cell_type": "code",
   "execution_count": 15,
   "id": "151faf69",
   "metadata": {},
   "outputs": [],
   "source": [
    "if not os.path.isdir(output_path):\n",
    "    os.makedirs(output_path)\n",
    "\n",
    "maps = pycolmap.incremental_mapping(database_path, dirname, output_path)\n",
    "maps[0].write(output_path)"
   ]
  },
  {
   "cell_type": "code",
   "execution_count": null,
   "id": "403a23be",
   "metadata": {},
   "outputs": [],
   "source": [
    "# dense reconstruction\n",
    "pycolmap.undistort_images(output_path, output_path, dirname)\n",
    "pycolmap.patch_match_stereo(output_path)  # requires compilation with CUDA\n",
    "pycolmap.stereo_fusion(output_path / \"dense.ply\", output_path)"
   ]
  },
  {
   "cell_type": "code",
   "execution_count": 13,
   "id": "51e6cd05",
   "metadata": {},
   "outputs": [],
   "source": [
    "#model_dir = os.path.abspath('colmap_rec_loftr/0')\n",
    "#ply_model_path = os.path.abspath('model.ply')\n",
    "#!colmap model_converter --input_path \"{model_dir}\" --output_path \"{ply_model_path}\" --output_type PLY"
   ]
  },
  {
   "cell_type": "code",
   "execution_count": 15,
   "id": "766367ed",
   "metadata": {},
   "outputs": [
    {
     "ename": "",
     "evalue": "",
     "output_type": "error",
     "traceback": [
      "\u001b[1;31mThe Kernel crashed while executing code in the current cell or a previous cell. \n",
      "\u001b[1;31mPlease review the code in the cell(s) to identify a possible cause of the failure. \n",
      "\u001b[1;31mClick <a href='https://aka.ms/vscodeJupyterKernelCrash'>here</a> for more info. \n",
      "\u001b[1;31mView Jupyter <a href='command:jupyter.viewOutput'>log</a> for further details."
     ]
    }
   ],
   "source": [
    "#import open3d as o3d\n",
    "\n",
    "# def visualize_ply(ply_model_path):\n",
    "#     # Load the .ply file\n",
    "#     pcd = o3d.io.read_point_cloud(ply_model_path)\n",
    "\n",
    "#     # Visualize the point cloud\n",
    "#     o3d.visualization.draw_geometries([pcd])\n",
    "\n",
    "# visualize_ply('model.ply')"
   ]
  },
  {
   "cell_type": "code",
   "execution_count": 9,
   "id": "9274db70",
   "metadata": {},
   "outputs": [
    {
     "name": "stdout",
     "output_type": "stream",
     "text": [
      "I20240511 20:37:55.051832 847528 misc.cc:205] \n",
      "Reconstruction 1\n",
      "----------------\n",
      "I20240511 20:37:55.052505 847528 model.cc:722] Images: 97\n",
      "I20240511 20:37:55.052520 847528 model.cc:723] Points: 249644\n",
      "I20240511 20:37:55.348878 847528 misc.cc:205] \n",
      "Reconstruction 2\n",
      "----------------\n",
      "I20240511 20:37:55.348930 847528 model.cc:728] Images: 22\n",
      "I20240511 20:37:55.348953 847528 model.cc:729] Points: 50033\n",
      "I20240511 20:37:55.348973 847528 misc.cc:205] \n",
      "Merging reconstructions\n",
      "-----------------------\n",
      "I20240511 20:37:56.768738 847528 model.cc:734] => Merge succeeded\n",
      "I20240511 20:37:56.768779 847528 misc.cc:205] \n",
      "Merged reconstruction\n",
      "---------------------\n",
      "I20240511 20:37:56.768791 847528 model.cc:736] Images: 99\n",
      "I20240511 20:37:56.768801 847528 model.cc:737] Points: 255086\n"
     ]
    }
   ],
   "source": [
    "# !colmap model_merger \\\n",
    "#     --input_path1 ./colmap_rec_loftr/0-1 \\\n",
    "#     --input_path2 ./colmap_rec_loftr/2 \\\n",
    "#     --output_path ./colmap_rec_loftr/total\n"
   ]
  },
  {
   "cell_type": "code",
   "execution_count": null,
   "id": "0dd5a7c2",
   "metadata": {},
   "outputs": [],
   "source": [
    "#!colmap gui"
   ]
  },
  {
   "cell_type": "markdown",
   "id": "06d7f879",
   "metadata": {},
   "source": []
  }
 ],
 "metadata": {
  "kernelspec": {
   "display_name": "Python 3 (ipykernel)",
   "language": "python",
   "name": "python3"
  },
  "language_info": {
   "codemirror_mode": {
    "name": "ipython",
    "version": 3
   },
   "file_extension": ".py",
   "mimetype": "text/x-python",
   "name": "python",
   "nbconvert_exporter": "python",
   "pygments_lexer": "ipython3",
   "version": "3.11.9"
  }
 },
 "nbformat": 4,
 "nbformat_minor": 5
}
